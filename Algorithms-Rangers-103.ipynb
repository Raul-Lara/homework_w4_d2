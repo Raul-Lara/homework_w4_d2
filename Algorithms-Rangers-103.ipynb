{
 "cells": [
  {
   "cell_type": "markdown",
   "metadata": {},
   "source": [
    "# Cl"
   ]
  },
  {
   "cell_type": "markdown",
   "metadata": {},
   "source": [
    "## Tasks Today:\n",
    " \n",
    "1) <b>In-Place Algorithms</b> <br>\n",
    " &nbsp;&nbsp;&nbsp;&nbsp; a) Syntax <br>\n",
    " &nbsp;&nbsp;&nbsp;&nbsp; a) Out of Place Algorithm <br>\n",
    " &nbsp;&nbsp;&nbsp;&nbsp; b) In-Class Exercise #1 <br>\n",
    "2) <b>Two Pointers</b> <br>\n",
    "3) <b>Linked Lists</b> <br>\n",
    "4) <b>Merge Sort</b> <br>\n",
    " &nbsp;&nbsp;&nbsp;&nbsp; a) Video on Algorithms <br>\n",
    " &nbsp;&nbsp;&nbsp;&nbsp; b) How it Works <br>\n",
    "5) <b>Exercises</b> <br>\n",
    " &nbsp;&nbsp;&nbsp;&nbsp; a) Exercise #1 - Reverse a List in Place Using an In-Place Algorithm <br>\n",
    " &nbsp;&nbsp;&nbsp;&nbsp; b) Exercise #2 - Find Distinct Words <br>\n",
    " &nbsp;&nbsp;&nbsp;&nbsp; c) Exercise #3 - Write a program to implement a Linear Search Algorithm. <br>"
   ]
  },
  {
   "cell_type": "markdown",
   "metadata": {},
   "source": [
    "## In-Place Algorithms"
   ]
  },
  {
   "cell_type": "markdown",
   "metadata": {},
   "source": [
    "#### Syntax"
   ]
  },
  {
   "cell_type": "code",
   "execution_count": null,
   "metadata": {},
   "outputs": [],
   "source": [
    "#var[i], var[j] = var[j], var[i]\n",
    "#sometimes known as a swap algorithm\n",
    "\n",
    "def swap(alist, x, y, z):\n",
    "    alist[x],alist[y],alist[z], = alist[z],alist[y],alist[x],\n",
    "    return alist\n",
    "\n",
    "my_list = [20, 4, 10]\n",
    "print(f\"Before Swap:{my_list}\")\n",
    "swap(my_list, 2, 0, 1)\n",
    "print(f\"After Swap: {my_list}\")"
   ]
  },
  {
   "cell_type": "code",
   "execution_count": null,
   "metadata": {},
   "outputs": [],
   "source": [
    "def swap(alist, x, y, z):\n",
    "    alist[x], alist[x], alist[z]= alist[y], alist[x], alist[z]\n",
    "    return alist\n",
    "\n",
    "my_list = [16, 7, 8]\n",
    "print(f\"Before Swap:{my_list}\")\n",
    "swap(my_list, 1, 0, 2)\n",
    "print(f\"After Swap: {my_list}\")"
   ]
  },
  {
   "cell_type": "code",
   "execution_count": null,
   "metadata": {},
   "outputs": [],
   "source": [
    "def swap (alist, x,y):\n",
    "    alist[x], alist[y] = alist[y], alist[x]\n",
    "    return alist\n",
    "\n",
    "my_list = [12, 5]\n",
    "print(f\"Before Swap:{my_list}\")\n",
    "swap(my_list, 0, 1)\n",
    "print(f\"After Swap: {my_list}\")"
   ]
  },
  {
   "cell_type": "markdown",
   "metadata": {},
   "source": [
    "#### Out of Place Algorithm"
   ]
  },
  {
   "cell_type": "code",
   "execution_count": null,
   "metadata": {},
   "outputs": [],
   "source": [
    "# we are creating a new list or creating a list copy\n",
    "# not swapping, just reversing the list completely\n",
    "#but also copies to another place in memory\n",
    "\n",
    "my_list = [20, 4, 10]\n",
    "\n",
    "my_list_copy = my_list[::-1]\n",
    "# print(my_list_copy)\n",
    "\n",
    "array = ['a', 'b', 'c', 'd']\n",
    "new_array = ['a'] *len(array)\n",
    "# print(new_array)\n",
    "print(\"before\", array)\n",
    "length = len(array) - 1 # = 3\n",
    "\n",
    "for i in range(length): #index 0, 1, 2\n",
    "    new_array[i] = array[length - i]\n",
    "\n",
    "array = new_array\n",
    "print(\"after\", array)\n",
    "    \n"
   ]
  },
  {
   "cell_type": "markdown",
   "metadata": {},
   "source": [
    "#### In-Class Exercise #1 <br>\n",
    "<p>Write a function that takes in four arguments (list, index1, index2, index3), and swaps those three positions in the list passed in.</p>"
   ]
  },
  {
   "cell_type": "code",
   "execution_count": null,
   "metadata": {},
   "outputs": [],
   "source": [
    "l_1 = [10, 4, 3, 8, 4, 2, 6]\n",
    "\n",
    "def new_list(alist, x, y, z):\n",
    "    alist[x],alist[y],alist[z], = alist[z], alist[x], alist[x],\n",
    "\n",
    "swap(l_1, 0, 1,)\n",
    "print(l_1)"
   ]
  },
  {
   "cell_type": "markdown",
   "metadata": {},
   "source": [
    "## Two Pointers"
   ]
  },
  {
   "cell_type": "markdown",
   "metadata": {},
   "source": [
    "#### Syntax"
   ]
  },
  {
   "cell_type": "code",
   "execution_count": null,
   "metadata": {},
   "outputs": [],
   "source": [
    "my_list2 = [1,2,3,12,9,8,4,11,22]\n",
    "def twoPointers(alist):\n",
    "    #creating pointer for the list\n",
    "    left = 0 # lef is index , beginning at the start of the list or the left side\n",
    "    right = len(alist) - 1 # righ is index , starting at the end of the list or the right side\n",
    "    while left <= right:\n",
    "        alist[left], alist[right] = alist[right], alist[left]\n",
    "        left += 1\n",
    "        right -= 1\n",
    "    return alist\n",
    "twoPointers(my_list2)\n",
    "    \n",
    "    "
   ]
  },
  {
   "cell_type": "code",
   "execution_count": null,
   "metadata": {},
   "outputs": [],
   "source": [
    "#           0                              9\n",
    "my_list3 = [2, 5, 6, 3, 8, 9, 12, 22, 34, 10]\n",
    "\n",
    "def twoPointers(alist):\n",
    "    left = 0\n",
    "    right = len(alist) - 1 #9\n",
    "    \n",
    "    while left <= right:\n",
    "        alist[left],alist[right] = alist[right],alist[left]\n",
    "        left += 1\n",
    "        right -= 1\n",
    "    return alist\n",
    "twoPointers(my_list3)\n",
    "    "
   ]
  },
  {
   "cell_type": "markdown",
   "metadata": {},
   "source": [
    "#### Video of Algorithms <br>\n",
    "<p>Watch the video about algorithms.</p>\n",
    "\n",
    "https://www.youtube.com/watch?v=Q9HjeFD62Uk\n",
    "\n",
    "https://www.youtube.com/watch?v=kPRA0W1kECg\n",
    "\n",
    "https://www.youtube.com/watch?v=ZZuD6iUe3Pc"
   ]
  },
  {
   "cell_type": "markdown",
   "metadata": {},
   "source": [
    "# Sorting Algorithms"
   ]
  },
  {
   "cell_type": "code",
   "execution_count": null,
   "metadata": {},
   "outputs": [],
   "source": [
    "#constant time O(1)\n",
    "array = [1,2,3,4]\n",
    "print(array[0])\n",
    "\n",
    "#linear time O(n)\n",
    "if 2 in array:\n",
    "    print(\"Its here\")\n",
    "for num in array:\n",
    "    print(num)\n",
    "    \n",
    "#O(n log n)\n",
    "array2 = [1, 5, 6, 8, 4, 6, 7, 4, 5, 2, 4]\n",
    "sorted_array = sorted(array2)\n",
    "array2.sort()\n",
    "\n",
    "\n",
    "#O(n^2) Quadratic\n",
    "array = [1,2,3,4]\n",
    "array2 = [1, 5, 6, 8, 4, 6, 7, 4, 5, 2, 4]\n",
    "for x in array: # looping through one list\n",
    "    if x in array2: # searching in another\n",
    "        print(x)\n",
    "        \n",
    "for x in array2: # double four loops are Quadratic\n",
    "    for y in array2:\n",
    "        print(x, y)\n",
    "# basically any nested linear operation is going to increase time complexity exponentially\n",
    "\n",
    "#cubic --> exponential\n",
    "for x in array2: # double four loops are Quadratic\n",
    "    for y in array2:\n",
    "        for z in array2:\n",
    "            print(x,y,z)"
   ]
  },
  {
   "cell_type": "markdown",
   "metadata": {},
   "source": [
    "#### Bubble Sort\n",
    "\n",
    "Worst Case: O(n^2) Time - O(1) Space"
   ]
  },
  {
   "cell_type": "code",
   "execution_count": null,
   "metadata": {},
   "outputs": [],
   "source": [
    "# time complexity\n",
    "#how many actions have to happend per things taken inputs\n",
    "\n",
    "#.count() linear\n",
    "#.append() constant\n",
    "#.sort()/ sorted() 0(n log n)\n",
    "#.pop() --> removes the last item of the list --> constant\n",
    "#.pop(index4) --> it has to traverse the list to remove the given index"
   ]
  },
  {
   "cell_type": "code",
   "execution_count": null,
   "metadata": {},
   "outputs": [],
   "source": [
    "#best case O(n) - lienar\n",
    "#worst case O(n^2) Quadratic\n",
    "\n",
    "#After each pass one numer will reach its final position\n",
    "my_list = [22, 55, 88, 44, 1, 100, 34, 66]\n",
    "def swap(i, j, array):\n",
    "    array[i], array[j] = array[j], array[i]\n",
    "\n",
    "def bubbleSort(array):\n",
    "    isSorted = False #<-- setting a flag\n",
    "    while not isSorted:\n",
    "        isSorted = True\n",
    "        for index in range(len(array) - 1):\n",
    "            if array[index] > array[num + 1]:\n",
    "                swap(index, index + 1, array)\n",
    "                isSorted = False\n",
    "    return array\n",
    "bubbleSort(my_list)"
   ]
  },
  {
   "cell_type": "markdown",
   "metadata": {},
   "source": [
    "##### Insertion Sort\n",
    "\n",
    "Worst Case: O(n^2) time - O(1)space"
   ]
  },
  {
   "cell_type": "code",
   "execution_count": null,
   "metadata": {},
   "outputs": [],
   "source": [
    "def swap (i, j, array):\n",
    "    array[i], array[j] = array[j], array[i]\n",
    "def insertionSort(array):\n",
    "    for i in range(1, len(array)): #<-- consider 0 to be sorted\n",
    "        #creating a check so we dont go past the 0 index\n",
    "        j = i \n",
    "        while j > 0 and array[j] < array[j - 1]:\n",
    "            swap(j, j - 1, array)\n",
    "            j -= 1\n",
    "    return array\n",
    "my_list = [22, 55, 88, 44, 1, 100, 34, 66]\n",
    "insertionSort(my_list)"
   ]
  },
  {
   "cell_type": "markdown",
   "metadata": {},
   "source": [
    "## Merge Sort"
   ]
  },
  {
   "cell_type": "markdown",
   "metadata": {},
   "source": [
    "#### How it Works"
   ]
  },
  {
   "cell_type": "code",
   "execution_count": null,
   "metadata": {},
   "outputs": [],
   "source": [
    "# Step 1: Split Everything into its own group\n",
    "# Step 2: From the left to right merge two groups together\n",
    "# Step 3: While merging, place each item in the correct position within the merged group\n",
    "# Step 4: Continue Steps 3-4 until only one group is left\n",
    "\n",
    "from random import randint\n",
    "#generate a random list of 5 numbers between 0 to 20\n",
    "nums = [randint(0, 20) for i in range(5)]\n",
    "\n",
    "print(nums)\n",
    "\n",
    "#merge sort function\n",
    "def mergeSort(alist):\n",
    "    print(\"Splitting....\", alist)\n",
    "    \n",
    "    #step 1: Divide the array into equal parts (as much as possible)\n",
    "    if len(alist) > 1:\n",
    "        mid = len(alist) // 2\n",
    "        lefthalf = alist[:mid]\n",
    "        righthalf = alist[mid:]\n",
    "        \n",
    "        # recursivelyu call mergeSort to perform splits until len(alist) == 1\n",
    "        # merge once the splits are done\n",
    "        mergeSort(lefthalf)\n",
    "        mergeSort(righthalf)\n",
    "        \n",
    "        #index pointers for our list\n",
    "        l = 0 #pointer for left half\n",
    "        r = 0 #pointer for our right half\n",
    "        m = 0 #pointer for main array\n",
    "        \n",
    "        #Step 2: Compare the lefthalf with righthalf\n",
    "        while l < len(lefthalf) and r < len(righthalf):\n",
    "            if lefthalf[l] < righthalf[r]:\n",
    "                alist[m] = lefthalf[l]\n",
    "                l += 1\n",
    "                \n",
    "            else:\n",
    "                alist[m] = righthalf[r]\n",
    "                r += 1\n",
    "                \n",
    "            m += 1\n",
    "            \n",
    "        #step 3: While merging place items in correct position\n",
    "        while l < len(lefthalf):\n",
    "            alist[m] = lefthalf[l]\n",
    "            l += 1\n",
    "            m += 1\n",
    "            \n",
    "        while r < len(righthalf):\n",
    "            alist[m] = righthalf[r]\n",
    "            r += 1\n",
    "            m += 1\n",
    "    print(\"Merging: \", alist)\n",
    "    return alist\n",
    "\n",
    "mergeSort(nums)"
   ]
  },
  {
   "cell_type": "markdown",
   "metadata": {},
   "source": [
    "# Binary Search\n",
    "\n",
    "The Binary Search algorithm works by finding the number in the middle of a given array and comparing it to the target. Given that the array is sorted\n",
    "\n",
    "* The worst case run time for this algorithm is `O(log(n))`"
   ]
  },
  {
   "cell_type": "code",
   "execution_count": null,
   "metadata": {},
   "outputs": [],
   "source": [
    "#Less == Left\n",
    "# Greater == Right\n",
    "# List of numbres must be sorted\n",
    "\n",
    "def bin_helper(array, target, left, right):\n",
    "    while left <= right:\n",
    "        middle = (left + right) // 2\n",
    "        potentialMatch = array[middle]\n",
    "        if target == potentialMatch:\n",
    "            return f\"The index is....{middle}\"\n",
    "        elif target < potentialMatch:\n",
    "            right = middle - 1\n",
    "        else:\n",
    "            left = middle + 1\n",
    "    return -1\n",
    "\n",
    "def binarySearch(array, target):\n",
    "    return bin_helper(array, target, 0, len(array)-1)\n",
    "\n",
    "binarySearch([22, 44, 55, 66, 88, 100], 44)\n",
    "        "
   ]
  },
  {
   "cell_type": "markdown",
   "metadata": {},
   "source": [
    "# Exercises"
   ]
  },
  {
   "cell_type": "markdown",
   "metadata": {},
   "source": [
    "### Exercise #1 <br>\n",
    "<p>Reverse the list below in-place using an in-place algorithm.<br>For extra credit: Reverse the strings at the same time.</p>"
   ]
  },
  {
   "cell_type": "code",
   "execution_count": null,
   "metadata": {},
   "outputs": [],
   "source": [
    "words = ['this' , 'is', 'a', 'sentence', '.']\n",
    "new_list = []\n",
    "def names(var, x, y, z, k, f):\n",
    "    var[x], var[y], var[z], var[k], var[f] = var[f], var[k], var[z],var[y],var[x]\n",
    "   \n",
    "    for i in words:\n",
    "        words(i[::-1])\n",
    "    return var\n",
    "names(words, 0, 1, 2, 3, 4)\n",
    "print(words)\n"
   ]
  },
  {
   "cell_type": "markdown",
   "metadata": {},
   "source": [
    "### Exercise #2 <br>\n",
    "<p>Create a function that counts how many distinct words are in the string below, then outputs a dictionary with the words as the key and the value as the amount of times that word appears in the string.<br>Should output:<br>{'a': 5,<br>\n",
    " 'abstract': 1,<br>\n",
    " 'an': 3,<br>\n",
    " 'array': 2, ... etc...</p>"
   ]
  },
  {
   "cell_type": "code",
   "execution_count": null,
   "metadata": {},
   "outputs": [],
   "source": [
    "a_text = 'In computing, a hash table hash map is a data structure which implements an associative array abstract data type, a structure that can map keys to values. A hash table uses a hash function to compute an index into an array of buckets or slots from which the desired value can be found'\n",
    "\n",
    "def word_count(a_text):\n",
    "    counter = dict()\n",
    "    words = a_text.split()\n",
    "    for word in words:\n",
    "        if word in counter:\n",
    "            counter[word] += 1\n",
    "        else:\n",
    "            counter[word] = 1\n",
    "    return counter     \n",
    "word_count(a_text)"
   ]
  },
  {
   "cell_type": "markdown",
   "metadata": {},
   "source": [
    "## Exercise #3\n",
    "\n",
    "Write a program to implement a Linear Search Algorithm. Also in a comment, write the Time Complexity of the following algorithm.\n",
    "\n",
    "#### Hint: Linear Searching will require searching a list for a given number. "
   ]
  },
  {
   "cell_type": "code",
   "execution_count": null,
   "metadata": {},
   "outputs": [],
   "source": [
    "new_list = [1,2,3,4,5]\n",
    "def lucky(alist):\n",
    "    x = input(\"Enter a number: \")\n",
    "    for i in new_list:\n",
    "        if i == int(x):\n",
    "            print(\"Its in the list\") \n",
    "            return\n",
    "    print(\"it's not in the list\")\n",
    "    return\n",
    "lucky(new_list)\n",
    "\n",
    "# The time complexity of the method is linear because it only iterates through the list once."
   ]
  },
  {
   "cell_type": "code",
   "execution_count": null,
   "metadata": {},
   "outputs": [],
   "source": []
  }
 ],
 "metadata": {
  "kernelspec": {
   "display_name": "Python 3 (ipykernel)",
   "language": "python",
   "name": "python3"
  },
  "language_info": {
   "codemirror_mode": {
    "name": "ipython",
    "version": 3
   },
   "file_extension": ".py",
   "mimetype": "text/x-python",
   "name": "python",
   "nbconvert_exporter": "python",
   "pygments_lexer": "ipython3",
   "version": "3.10.7"
  }
 },
 "nbformat": 4,
 "nbformat_minor": 2
}
